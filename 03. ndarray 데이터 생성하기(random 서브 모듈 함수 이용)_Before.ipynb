{
 "cells": [
  {
   "cell_type": "markdown",
   "metadata": {},
   "source": [
    "### 학습목표\n",
    " - random 서브모듈 함수를 통해 ndarray 생성하기"
   ]
  },
  {
   "cell_type": "code",
   "execution_count": 1,
   "metadata": {},
   "outputs": [],
   "source": [
    "import numpy as np"
   ]
  },
  {
   "cell_type": "markdown",
   "metadata": {},
   "source": [
    "#### random 서브모듈"
   ]
  },
  {
   "cell_type": "markdown",
   "metadata": {},
   "source": [
    "#### rand 함수\n",
    " - 0, 1사이의 분포로 랜덤한 ndarray 생성"
   ]
  },
  {
   "cell_type": "code",
   "execution_count": 6,
   "metadata": {},
   "outputs": [
    {
     "data": {
      "text/plain": [
       "array([[[0.54654695, 0.26797906, 0.18860871],\n",
       "        [0.23697214, 0.56046864, 0.00660603],\n",
       "        [0.87252871, 0.8658317 , 0.49660722],\n",
       "        [0.64588804, 0.79247016, 0.22771831],\n",
       "        [0.07496875, 0.69993139, 0.9494494 ]],\n",
       "\n",
       "       [[0.25759738, 0.77203973, 0.69072993],\n",
       "        [0.89632311, 0.59005111, 0.66020147],\n",
       "        [0.48760055, 0.34155568, 0.33074686],\n",
       "        [0.90735745, 0.98461482, 0.86281668],\n",
       "        [0.7492161 , 0.88873433, 0.96800566]],\n",
       "\n",
       "       [[0.14589888, 0.57661333, 0.71075407],\n",
       "        [0.0786592 , 0.00409432, 0.56713101],\n",
       "        [0.31608776, 0.93829367, 0.84638749],\n",
       "        [0.51974623, 0.44201313, 0.20543465],\n",
       "        [0.92461743, 0.55790308, 0.35975329]],\n",
       "\n",
       "       [[0.29159496, 0.70847385, 0.90978358],\n",
       "        [0.06355183, 0.65004004, 0.42059274],\n",
       "        [0.927154  , 0.91068698, 0.02402457],\n",
       "        [0.15182057, 0.66942018, 0.64904686],\n",
       "        [0.09881923, 0.08491501, 0.4435701 ]]])"
      ]
     },
     "execution_count": 6,
     "metadata": {},
     "output_type": "execute_result"
    }
   ],
   "source": [
    "np.random.rand(4,5,3)"
   ]
  },
  {
   "cell_type": "markdown",
   "metadata": {},
   "source": [
    "#### randn함수\n",
    " - n: normal distribution(정규분포)\n",
    " - 정규분포로 샘플링된 랜덤 ndarray 생성"
   ]
  },
  {
   "cell_type": "code",
   "execution_count": 7,
   "metadata": {},
   "outputs": [
    {
     "data": {
      "text/plain": [
       "array([[[ 2.15693722, -0.50364626],\n",
       "        [ 0.4944417 , -0.27347251],\n",
       "        [ 0.43437694,  0.60950153],\n",
       "        [-0.58820442, -0.33792543]],\n",
       "\n",
       "       [[ 1.30877675,  0.87015973],\n",
       "        [-0.9551526 ,  2.01150048],\n",
       "        [ 1.20021111,  0.37526845],\n",
       "        [ 0.32837585, -0.38834234]],\n",
       "\n",
       "       [[-0.57850976,  1.29633455],\n",
       "        [ 1.04196547, -1.10018776],\n",
       "        [-1.88683049, -0.57801108],\n",
       "        [ 0.68121895, -0.26251795]]])"
      ]
     },
     "execution_count": 7,
     "metadata": {},
     "output_type": "execute_result"
    }
   ],
   "source": [
    "np.random.randn(3,4,2)"
   ]
  },
  {
   "cell_type": "markdown",
   "metadata": {},
   "source": [
    "#### randint 함수\n",
    " - 특정 정수 사이에서 랜덤하게 샘플링"
   ]
  },
  {
   "cell_type": "code",
   "execution_count": 9,
   "metadata": {},
   "outputs": [
    {
     "data": {
      "text/plain": [
       "array([[98, 11, 81, 60, 32],\n",
       "       [37, 41, 75, 37, 49],\n",
       "       [87, 47, 39, 71, 43]])"
      ]
     },
     "execution_count": 9,
     "metadata": {},
     "output_type": "execute_result"
    }
   ],
   "source": [
    "np.random.randint(1,100,size=(3,5))"
   ]
  },
  {
   "cell_type": "code",
   "execution_count": 10,
   "metadata": {},
   "outputs": [
    {
     "data": {
      "text/plain": [
       "array([53, 92, 15])"
      ]
     },
     "execution_count": 10,
     "metadata": {},
     "output_type": "execute_result"
    }
   ],
   "source": [
    "np.random.randint(1,100,size=(3,))"
   ]
  },
  {
   "cell_type": "markdown",
   "metadata": {},
   "source": [
    "#### seed 함수\n",
    " - 랜덤한 값을 동일하게 다시 생성하고자 할때 사용"
   ]
  },
  {
   "cell_type": "code",
   "execution_count": 16,
   "metadata": {},
   "outputs": [
    {
     "data": {
      "text/plain": [
       "array([[-1.74976547,  0.3426804 ,  1.1530358 , -0.25243604],\n",
       "       [ 0.98132079,  0.51421884,  0.22117967, -1.07004333],\n",
       "       [-0.18949583,  0.25500144, -0.45802699,  0.43516349]])"
      ]
     },
     "execution_count": 16,
     "metadata": {},
     "output_type": "execute_result"
    }
   ],
   "source": [
    "np.random.seed(100)\n",
    "np.random.randn(3,4)"
   ]
  },
  {
   "cell_type": "markdown",
   "metadata": {},
   "source": [
    "#### choice\n",
    " - 주어진 1차원 ndarray로 부터 랜덤으로 샘플링\n",
    " - 정수가 주어진 경우, np.arange(해당숫자)로 간주"
   ]
  },
  {
   "cell_type": "code",
   "execution_count": 17,
   "metadata": {},
   "outputs": [
    {
     "data": {
      "text/plain": [
       "array([[83,  4, 91, 59],\n",
       "       [67,  7, 49, 47],\n",
       "       [65, 61, 14, 55]])"
      ]
     },
     "execution_count": 17,
     "metadata": {},
     "output_type": "execute_result"
    }
   ],
   "source": [
    "np.random.choice(100, (3, 4))"
   ]
  },
  {
   "cell_type": "code",
   "execution_count": 19,
   "metadata": {},
   "outputs": [
    {
     "data": {
      "text/plain": [
       "array([[1. , 2.6],\n",
       "       [2.9, 3. ]])"
      ]
     },
     "execution_count": 19,
     "metadata": {},
     "output_type": "execute_result"
    }
   ],
   "source": [
    "x = np.array([1,2,3,1.5,2.6,2.9])\n",
    "np.random.choice(x, size=(2,2), replace=False)"
   ]
  },
  {
   "cell_type": "markdown",
   "metadata": {},
   "source": [
    "#### 확률분포에 따른 ndarray 생성\n",
    " - uniform\n",
    " - normal 등등"
   ]
  },
  {
   "cell_type": "code",
   "execution_count": 21,
   "metadata": {},
   "outputs": [
    {
     "data": {
      "text/plain": [
       "array([[-0.68955061, -0.53547985,  1.52795302,  0.64720579],\n",
       "       [-0.67733661, -0.2650188 ,  0.74610644, -3.13078483],\n",
       "       [ 0.05962178, -0.87521111,  1.06487833, -0.57315265]])"
      ]
     },
     "execution_count": 21,
     "metadata": {},
     "output_type": "execute_result"
    }
   ],
   "source": [
    "np.random.uniform(1.0,3.0, size=(4,5))\n",
    "np.random.randn(3,4)"
   ]
  },
  {
   "cell_type": "code",
   "execution_count": null,
   "metadata": {},
   "outputs": [],
   "source": []
  }
 ],
 "metadata": {
  "kernelspec": {
   "display_name": "Python 3",
   "language": "python",
   "name": "python3"
  },
  "language_info": {
   "codemirror_mode": {
    "name": "ipython",
    "version": 3
   },
   "file_extension": ".py",
   "mimetype": "text/x-python",
   "name": "python",
   "nbconvert_exporter": "python",
   "pygments_lexer": "ipython3",
   "version": "3.9.7"
  }
 },
 "nbformat": 4,
 "nbformat_minor": 2
}
