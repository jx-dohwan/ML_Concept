{
 "cells": [
  {
   "cell_type": "markdown",
   "metadata": {},
   "source": [
    "## 학습목표\n",
    " 1. linalg 서브모듈 함수 활용여 선형대수 연산하기"
   ]
  },
  {
   "cell_type": "code",
   "execution_count": 1,
   "metadata": {},
   "outputs": [],
   "source": [
    "import numpy as np"
   ]
  },
  {
   "cell_type": "markdown",
   "metadata": {},
   "source": [
    "#### np.linalg.inv\n",
    " - 역행렬을 구할 때 사용\n",
    " - 모든 차원의 값이 같아야 함"
   ]
  },
  {
   "cell_type": "code",
   "execution_count": 5,
   "metadata": {},
   "outputs": [
    {
     "name": "stdout",
     "output_type": "stream",
     "text": [
      "[[0.00217651 0.82802322 0.01707408]\n",
      " [0.87715988 0.29040104 0.1159859 ]\n",
      " [0.02927394 0.07241532 0.78605241]]\n"
     ]
    },
    {
     "data": {
      "text/plain": [
       "array([[ 1.00000000e+00,  4.93039881e-19, -4.55187747e-18],\n",
       "       [ 2.62246559e-17,  1.00000000e+00, -1.37533387e-17],\n",
       "       [ 4.98588923e-18,  1.24791037e-17,  1.00000000e+00]])"
      ]
     },
     "execution_count": 5,
     "metadata": {},
     "output_type": "execute_result"
    }
   ],
   "source": [
    "x = np.random.rand(3,3)\n",
    "print(x)\n",
    "x @ np.linalg.inv(x)\n"
   ]
  },
  {
   "cell_type": "code",
   "execution_count": 8,
   "metadata": {},
   "outputs": [
    {
     "data": {
      "text/plain": [
       "array([[ 1.00000000e+00,  4.93039881e-19, -4.55187747e-18],\n",
       "       [ 2.62246559e-17,  1.00000000e+00, -1.37533387e-17],\n",
       "       [ 4.98588923e-18,  1.24791037e-17,  1.00000000e+00]])"
      ]
     },
     "execution_count": 8,
     "metadata": {},
     "output_type": "execute_result"
    }
   ],
   "source": [
    "np.matmul(x, np.linalg.inv(x))"
   ]
  },
  {
   "cell_type": "markdown",
   "metadata": {},
   "source": [
    "#### np.linalg.solve\n",
    " - Ax = B 형태의 선형대수식 솔루션을 제공\n",
    " - 예제) 호랑이와 홍합의 합 : 25 호랑이 다리와 홍합 다리의 합은 64\n",
    "   - x + y = 25\n",
    "   - 2x + 4y = 64\n",
    "   \n",
    " $$\\begin{pmatrix} 1 & 1 \\\\ 2 & 4 \\end{pmatrix}\\begin{pmatrix} x \\\\ y \\end{pmatrix}= \\begin{pmatrix} 25 \\\\ 64 \\end{pmatrix}$$\n"
   ]
  },
  {
   "cell_type": "code",
   "execution_count": 10,
   "metadata": {},
   "outputs": [
    {
     "name": "stdout",
     "output_type": "stream",
     "text": [
      "[18.  7.]\n"
     ]
    },
    {
     "data": {
      "text/plain": [
       "True"
      ]
     },
     "execution_count": 10,
     "metadata": {},
     "output_type": "execute_result"
    }
   ],
   "source": [
    "A = np.array([[1,1],[2,4]])\n",
    "B = np.array([25,64])\n",
    "\n",
    "x = np.linalg.solve(A,B)\n",
    "print(x)\n",
    "\n",
    "np.allclose(A@x, B)"
   ]
  },
  {
   "cell_type": "code",
   "execution_count": null,
   "metadata": {},
   "outputs": [],
   "source": []
  }
 ],
 "metadata": {
  "kernelspec": {
   "display_name": "Python 3",
   "language": "python",
   "name": "python3"
  },
  "language_info": {
   "codemirror_mode": {
    "name": "ipython",
    "version": 3
   },
   "file_extension": ".py",
   "mimetype": "text/x-python",
   "name": "python",
   "nbconvert_exporter": "python",
   "pygments_lexer": "ipython3",
   "version": "3.9.7"
  }
 },
 "nbformat": 4,
 "nbformat_minor": 1
}
